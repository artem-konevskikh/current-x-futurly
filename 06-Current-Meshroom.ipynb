{
  "nbformat": 4,
  "nbformat_minor": 0,
  "metadata": {
    "colab": {
      "name": "Current-Meshroom",
      "provenance": [],
      "collapsed_sections": [],
      "machine_shape": "hm"
    },
    "kernelspec": {
      "name": "python3",
      "display_name": "Python 3"
    },
    "accelerator": "GPU"
  },
  "cells": [
    {
      "cell_type": "markdown",
      "metadata": {
        "id": "GV0aPgMN8PWY"
      },
      "source": [
        "# Current.cam workshop - Volumetric Personas \n",
        "## Meshroom\n",
        "\n",
        "This notebook runs photogrammetry tool Meshroom on Google Colab\n",
        "\n",
        "Made by [Artem Konevskikh](http://aiculedssul.net/) for [Current.cam](https://current.cam/)\n",
        "\n",
        "Based on this [gist](https://gist.github.com/donmahallem/22134574382b7bd8a67c1550734fcfc4)\n"
      ]
    },
    {
      "cell_type": "markdown",
      "metadata": {
        "id": "0eYTT15F8kqc"
      },
      "source": [
        "## Install"
      ]
    },
    {
      "cell_type": "code",
      "metadata": {
        "id": "qetKvXVK8vWI",
        "cellView": "form"
      },
      "source": [
        "#@title Mount Google Drive\n",
        "#@markdown Mount Google Drive to install PIFuHD, load images and to save the results.\n",
        "\n",
        "#@markdown After running this cell you will get the link. Follow the link, grant access to your Drive and copy auth code.\n",
        "\n",
        "#@markdown Paste the code to the input below and press Enter\n",
        "from google.colab import drive, files\n",
        "import shlex\n",
        "drive.mount('/content/drive')"
      ],
      "execution_count": null,
      "outputs": []
    },
    {
      "cell_type": "code",
      "metadata": {
        "cellView": "form",
        "id": "YY3v-TTlpacr"
      },
      "source": [
        "#@title Install Meshroom\n",
        "!wget -N https://github.com/alicevision/meshroom/releases/download/v2019.1.0/Meshroom-2019.1.0-linux.tar.gz\n",
        "!mkdir meshroom\n",
        "!tar xzf Meshroom-2019.1.0-linux.tar.gz -C ./meshroom"
      ],
      "execution_count": null,
      "outputs": []
    },
    {
      "cell_type": "markdown",
      "metadata": {
        "id": "Nzix0gx7p15I"
      },
      "source": [
        "## Preprocess"
      ]
    },
    {
      "cell_type": "code",
      "metadata": {
        "id": "XlBz5tyUi9_l",
        "cellView": "form"
      },
      "source": [
        "import shlex\n",
        "#@title Extract frames from video\n",
        "#@markdown Path to video file\n",
        "video_path = \"/content/drive/MyDrive/current-workshop/images/IMG_0845.MOV\" #@param {type: \"string\"}\n",
        "#@markdown Path to directory where frames will be saved\n",
        "frames_path = \"/content/drive/MyDrive/current-workshop/images/mesh3\" #@param {type: \"string\"}\n",
        "!mkdir $frames_path\n",
        "frames_path = shlex.quote(frames_path+\"/frame%06d.jpg\")\n",
        "#@markdown Framerate. If you set it to 20 it will extract 20 frames per each second. 0.5 means you will get 1 frame per each 2 seconds. \n",
        "fps =  3#@param {'type': 'number'}\n",
        "!ffmpeg -i $video_path -r $fps $frames_path"
      ],
      "execution_count": null,
      "outputs": []
    },
    {
      "cell_type": "markdown",
      "metadata": {
        "id": "BVC38_HRqy03"
      },
      "source": [
        "## Reconstruction"
      ]
    },
    {
      "cell_type": "code",
      "metadata": {
        "id": "2cfagnLYq3gW",
        "cellView": "form"
      },
      "source": [
        "#@title Run Meshroom\n",
        "#@markdown Path to directory with frames/images\n",
        "frames_path = \"/content/drive/MyDrive/current-workshop/images/mesh3\" #@param {type: \"string\"}\n",
        "#@markdown Path to directory where result will be saved\n",
        "result_path = \"/content/drive/MyDrive/current-workshop/results/mesh3\" #@param {type: \"string\"}\n",
        "frames_path = shlex.quote(frames_path)\n",
        "result_path = shlex.quote(result_path)\n",
        "!mkdir $result_path\n",
        "!./meshroom/Meshroom-2019.1.0/meshroom_photogrammetry --input $frames_path --output $result_path"
      ],
      "execution_count": null,
      "outputs": []
    },
    {
      "cell_type": "code",
      "metadata": {
        "cellView": "form",
        "id": "8qrw_-Bmrd8Q"
      },
      "source": [
        "#@title Download results\n",
        "#@markdown This will zip and download results folder\n",
        "\n",
        "!zip -r meshobject.zip $result_path\n",
        "files.download('meshobject.zip')"
      ],
      "execution_count": null,
      "outputs": []
    }
  ]
}